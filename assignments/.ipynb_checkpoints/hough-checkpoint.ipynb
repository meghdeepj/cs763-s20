{
 "cells": [
  {
   "cell_type": "code",
   "execution_count": 1,
   "metadata": {},
   "outputs": [],
   "source": [
    "import numpy as np\n",
    "import matplotlib.pyplot as plt\n",
    "import cv2"
   ]
  },
  {
   "cell_type": "code",
   "execution_count": 2,
   "metadata": {},
   "outputs": [],
   "source": [
    "c_img = cv2.imread('../data/sodoku.jpg', 1)\n",
    "img = cv2.imread('../data/sodoku.jpg', 0)"
   ]
  },
  {
   "cell_type": "code",
   "execution_count": 3,
   "metadata": {},
   "outputs": [],
   "source": [
    "dst=cv2.GaussianBlur(img, (5,5), 0)\n",
    "edgs=cv2.Canny(dst,85,150)"
   ]
  },
  {
   "cell_type": "code",
   "execution_count": 4,
   "metadata": {},
   "outputs": [],
   "source": [
    "cv2.imshow('sod', img)\n",
    "cv2.imshow('blur', dst)\n",
    "cv2.imshow('edgs', edgs)\n",
    "cv2.waitKey(0)\n",
    "cv2.destroyAllWindows()"
   ]
  },
  {
   "cell_type": "code",
   "execution_count": 5,
   "metadata": {},
   "outputs": [],
   "source": [
    "lines=cv2.HoughLines(edgs,1,np.pi/180,150)\n",
    "for line in lines:\n",
    "    rho,theta=line[0]\n",
    "    a=np.cos(theta)\n",
    "    b=np.sin(theta)\n",
    "    x0=a*rho\n",
    "    y0=b*rho\n",
    "    x1=int(x0+1000*(-b))\n",
    "    y1=int(y0+1000*(a))\n",
    "    x2=int(x0-1000*(-b))\n",
    "    y2=int(y0-1000*(a))\n",
    "    \n",
    "    cv2.line(c_img,(x1,y1), (x2,y2),(0,0,255),2)\n",
    "    "
   ]
  },
  {
   "cell_type": "code",
   "execution_count": 6,
   "metadata": {},
   "outputs": [],
   "source": [
    "cv2.imshow('sod', c_img)\n",
    "cv2.waitKey(0)\n",
    "cv2.destroyAllWindows()"
   ]
  },
  {
   "cell_type": "code",
   "execution_count": 7,
   "metadata": {},
   "outputs": [
    {
     "data": {
      "text/plain": [
       "True"
      ]
     },
     "execution_count": 7,
     "metadata": {},
     "output_type": "execute_result"
    }
   ],
   "source": [
    "cv2.imwrite('houghsod.jpg', c_img)"
   ]
  },
  {
   "cell_type": "code",
   "execution_count": 8,
   "metadata": {},
   "outputs": [],
   "source": [
    "c_img = cv2.imread('../data/sodoku.jpg', 1)\n",
    "lines_p=cv2.HoughLinesP(edgs,1,np.pi/180,100,minLineLength=80,maxLineGap=20)\n",
    "for line in lines_p:\n",
    "    x1,y1,x2,y2=line[0]\n",
    "    cv2.line(c_img, (x1,y1),(x2,y2), (0,255,0),2)"
   ]
  },
  {
   "cell_type": "code",
   "execution_count": 9,
   "metadata": {},
   "outputs": [],
   "source": [
    "cv2.imshow('sod', c_img)\n",
    "cv2.waitKey(0)\n",
    "cv2.destroyAllWindows()"
   ]
  },
  {
   "cell_type": "code",
   "execution_count": 10,
   "metadata": {},
   "outputs": [],
   "source": []
  },
  {
   "cell_type": "code",
   "execution_count": 41,
   "metadata": {},
   "outputs": [],
   "source": [
    "r_img = cv2.imread('../data/insta.png', 1)\n",
    "g_img = cv2.imread('../data/insta.png', 0)\n",
    "# r_img = cv2.imread('../data/rgb.jpeg', 1)\n",
    "# g_img = cv2.imread('../data/rgb.jpeg', 0)"
   ]
  },
  {
   "cell_type": "code",
   "execution_count": 42,
   "metadata": {},
   "outputs": [],
   "source": [
    "r_img=cv2.medianBlur(r_img,3)\n",
    "g_img=cv2.medianBlur(g_img,3)"
   ]
  },
  {
   "cell_type": "code",
   "execution_count": 43,
   "metadata": {},
   "outputs": [],
   "source": [
    "circles=cv2.HoughCircles(g_img,cv2.HOUGH_GRADIENT, 2, 30, param1=50,param2=30, minRadius=0, maxRadius=0)\n",
    "circles=np.uint16(np.around(circles))"
   ]
  },
  {
   "cell_type": "code",
   "execution_count": 44,
   "metadata": {},
   "outputs": [
    {
     "name": "stdout",
     "output_type": "stream",
     "text": [
      "[array([69, 59, 56], dtype=uint16), array([87, 87, 27], dtype=uint16), array([55, 99, 51], dtype=uint16), array([41, 41, 27], dtype=uint16), array([91, 37,  6], dtype=uint16), array([19, 19, 16], dtype=uint16), array([109, 109,  15], dtype=uint16)]\n"
     ]
    }
   ],
   "source": [
    "print([i for i in circles[0,:]])"
   ]
  },
  {
   "cell_type": "code",
   "execution_count": 45,
   "metadata": {},
   "outputs": [],
   "source": [
    "for i in circles[0]:\n",
    "    cv2.circle(r_img,(i[0],i[1]),i[2],(0,255,0),2)\n",
    "    cv2.circle(r_img,(i[0],i[1]),2,(0,0,255),2)\n",
    "    "
   ]
  },
  {
   "cell_type": "code",
   "execution_count": 46,
   "metadata": {},
   "outputs": [],
   "source": [
    "cv2.imshow('sod', r_img)\n",
    "cv2.waitKey(0)\n",
    "cv2.destroyAllWindows()"
   ]
  },
  {
   "cell_type": "code",
   "execution_count": null,
   "metadata": {},
   "outputs": [],
   "source": []
  }
 ],
 "metadata": {
  "kernelspec": {
   "display_name": "Python 3",
   "language": "python",
   "name": "python3"
  },
  "language_info": {
   "codemirror_mode": {
    "name": "ipython",
    "version": 3
   },
   "file_extension": ".py",
   "mimetype": "text/x-python",
   "name": "python",
   "nbconvert_exporter": "python",
   "pygments_lexer": "ipython3",
   "version": "3.7.5"
  }
 },
 "nbformat": 4,
 "nbformat_minor": 2
}
