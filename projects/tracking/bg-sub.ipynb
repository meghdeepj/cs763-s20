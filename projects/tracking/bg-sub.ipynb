{
 "cells": [
  {
   "cell_type": "code",
   "execution_count": 2,
   "metadata": {},
   "outputs": [],
   "source": [
    "import numpy as np\n",
    "import cv2\n",
    "import time\n",
    "import matplotlib.pyplot as plt"
   ]
  },
  {
   "cell_type": "code",
   "execution_count": 24,
   "metadata": {},
   "outputs": [],
   "source": [
    "# cap = cv2.VideoCapture('./data/s2l1.webm')\n",
    "cap = cv2.VideoCapture(0)\n",
    "fgbg=cv2.bgsegm.createBackgroundSubtractorMOG()\n",
    "# fgbg=cv2.createBackgroundSubtractorKNN(detectShadows=False)\n",
    "# fgbg=cv2.createBackgroundSubtractorMOG2(detectShadows=True)\n",
    "\n",
    "while(cap.isOpened()):\n",
    "    ret,frame=cap.read()\n",
    "    if ret==True:\n",
    "        fgmask=fgbg.apply(frame)\n",
    "        # fgmask=cv2.morphologyEx()\n",
    "        # print(fgmask.shape, frame.shape)\n",
    "        # out=cv2.bitwise_and(frame,frame,mask=fgmask)\n",
    "        cv2.imshow('frame', fgmask)\n",
    "        k=cv2.waitKey(30) & 0xff\n",
    "        if k==27:\n",
    "            break\n",
    "    else:\n",
    "        break\n",
    "\n",
    "cv2.destroyAllWindows()\n",
    "cap.release()"
   ]
  },
  {
   "cell_type": "code",
   "execution_count": null,
   "metadata": {},
   "outputs": [],
   "source": []
  }
 ],
 "metadata": {
  "language_info": {
   "codemirror_mode": {
    "name": "ipython",
    "version": 3
   },
   "file_extension": ".py",
   "mimetype": "text/x-python",
   "name": "python",
   "nbconvert_exporter": "python",
   "pygments_lexer": "ipython3",
   "version": "3.7.6-final"
  },
  "orig_nbformat": 2,
  "kernelspec": {
   "name": "python3",
   "display_name": "Python 3"
  }
 },
 "nbformat": 4,
 "nbformat_minor": 2
}